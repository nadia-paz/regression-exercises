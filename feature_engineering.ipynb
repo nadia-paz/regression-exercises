{
 "cells": [
  {
   "cell_type": "markdown",
   "id": "5a43de4b",
   "metadata": {},
   "source": [
    "## _Feature engineering exercises_"
   ]
  },
  {
   "cell_type": "code",
   "execution_count": 100,
   "id": "a71b5888",
   "metadata": {},
   "outputs": [],
   "source": [
    "import numpy as np\n",
    "import pandas as pd\n",
    "import seaborn as sns\n",
    "\n",
    "from sklearn.feature_selection import SelectKBest, RFE, f_regression, SequentialFeatureSelector\n",
    "from sklearn.linear_model import LinearRegression\n",
    "\n",
    "import wrangle as wr"
   ]
  },
  {
   "cell_type": "markdown",
   "id": "31da976a",
   "metadata": {},
   "source": [
    "1. **Load the tips dataset.**"
   ]
  },
  {
   "cell_type": "markdown",
   "id": "bb60a370",
   "metadata": {},
   "source": [
    "a) Create a column named ```price_per_person```. This should be the ```total bill``` divided by the party ```size```."
   ]
  },
  {
   "cell_type": "code",
   "execution_count": 152,
   "id": "fedbe650",
   "metadata": {},
   "outputs": [],
   "source": [
    "# get the train data set from tips data set\n",
    "tips, _, _ = wr.split_df(sns.load_dataset('tips'))"
   ]
  },
  {
   "cell_type": "code",
   "execution_count": 153,
   "id": "bb69d70f",
   "metadata": {},
   "outputs": [
    {
     "data": {
      "text/plain": [
       "(136, 7)"
      ]
     },
     "execution_count": 153,
     "metadata": {},
     "output_type": "execute_result"
    }
   ],
   "source": [
    "tips.shape"
   ]
  },
  {
   "cell_type": "code",
   "execution_count": 154,
   "id": "94f2e286",
   "metadata": {},
   "outputs": [
    {
     "data": {
      "text/html": [
       "<div>\n",
       "<style scoped>\n",
       "    .dataframe tbody tr th:only-of-type {\n",
       "        vertical-align: middle;\n",
       "    }\n",
       "\n",
       "    .dataframe tbody tr th {\n",
       "        vertical-align: top;\n",
       "    }\n",
       "\n",
       "    .dataframe thead th {\n",
       "        text-align: right;\n",
       "    }\n",
       "</style>\n",
       "<table border=\"1\" class=\"dataframe\">\n",
       "  <thead>\n",
       "    <tr style=\"text-align: right;\">\n",
       "      <th></th>\n",
       "      <th>total_bill</th>\n",
       "      <th>tip</th>\n",
       "      <th>sex</th>\n",
       "      <th>smoker</th>\n",
       "      <th>day</th>\n",
       "      <th>time</th>\n",
       "      <th>size</th>\n",
       "    </tr>\n",
       "  </thead>\n",
       "  <tbody>\n",
       "    <tr>\n",
       "      <th>73</th>\n",
       "      <td>25.28</td>\n",
       "      <td>5.0</td>\n",
       "      <td>Female</td>\n",
       "      <td>Yes</td>\n",
       "      <td>Sat</td>\n",
       "      <td>Dinner</td>\n",
       "      <td>2</td>\n",
       "    </tr>\n",
       "  </tbody>\n",
       "</table>\n",
       "</div>"
      ],
      "text/plain": [
       "    total_bill  tip     sex smoker  day    time  size\n",
       "73       25.28  5.0  Female    Yes  Sat  Dinner     2"
      ]
     },
     "execution_count": 154,
     "metadata": {},
     "output_type": "execute_result"
    }
   ],
   "source": [
    "tips.head(1)"
   ]
  },
  {
   "cell_type": "code",
   "execution_count": 155,
   "id": "80831bc7",
   "metadata": {},
   "outputs": [],
   "source": [
    "# create price_per_person\n",
    "tips['price_per_person'] = round((tips.total_bill / tips['size']), 2)"
   ]
  },
  {
   "cell_type": "code",
   "execution_count": 14,
   "id": "093b9597",
   "metadata": {},
   "outputs": [],
   "source": [
    "# create dummies for categorical variables"
   ]
  },
  {
   "cell_type": "code",
   "execution_count": 156,
   "id": "94b6b5c2",
   "metadata": {},
   "outputs": [],
   "source": [
    "tips['sex'] = tips.sex.map({'Male':0, 'Female':1})\n",
    "tips['smoker'] = tips.smoker.map({'Yes':1, 'No':0})\n",
    "tips['time'] = tips.time.map({'Dinner' :1, 'Lunch':0})\n",
    "tips['thur'] = np.where(tips.day == 'Thur', 1, 0)\n",
    "tips['fri'] = np.where(tips.day == 'Fri', 1, 0)\n",
    "tips['sat'] = np.where(tips.day == 'Sat', 1, 0)\n",
    "tips['sun'] = np.where(tips.day == 'Sun', 1, 0)"
   ]
  },
  {
   "cell_type": "markdown",
   "id": "ce2f1871",
   "metadata": {},
   "source": [
    "b) Before using any of the methods discussed in the lesson, which features do you think would be most important for predicting the tip amount?"
   ]
  },
  {
   "cell_type": "markdown",
   "id": "237c6a5b",
   "metadata": {},
   "source": [
    "```total_bill``` should be the best predictor. I guess the time of the day will be the 2nd one"
   ]
  },
  {
   "cell_type": "code",
   "execution_count": 164,
   "id": "e936cc38",
   "metadata": {},
   "outputs": [],
   "source": [
    "import matplotlib.pyplot as plt"
   ]
  },
  {
   "cell_type": "code",
   "execution_count": 172,
   "id": "8f58e4a0",
   "metadata": {
    "scrolled": true
   },
   "outputs": [
    {
     "data": {
      "image/png": "[encoded data removed]",
      "text/plain": [
       "<Figure size 864x288 with 2 Axes>"
      ]
     },
     "metadata": {
      "needs_background": "light"
     },
     "output_type": "display_data"
    }
   ],
   "source": [
    "plt.figure(figsize = (12, 4))\n",
    "plt.subplot(121)\n",
    "sns.histplot(data=tips, x='total_bill', bins=10)\n",
    "plt.ylim(0, 40)\n",
    "plt.subplot(122)\n",
    "sns.histplot(data=tips, x='tip', bins=10)\n",
    "plt.ylim(0, 40);"
   ]
  },
  {
   "cell_type": "code",
   "execution_count": 161,
   "id": "210b6f7c",
   "metadata": {},
   "outputs": [
    {
     "data": {
      "image/png": "[encoded data removed]",
      "text/plain": [
       "<Figure size 432x288 with 1 Axes>"
      ]
     },
     "metadata": {
      "needs_background": "light"
     },
     "output_type": "display_data"
    }
   ],
   "source": [
    "sns.histplot(data=tips, x='size');"
   ]
  },
  {
   "cell_type": "code",
   "execution_count": 158,
   "id": "aa2e5d12",
   "metadata": {},
   "outputs": [],
   "source": [
    "#get the target variable\n",
    "y = tips.tip"
   ]
  },
  {
   "cell_type": "code",
   "execution_count": 159,
   "id": "464bc708",
   "metadata": {},
   "outputs": [],
   "source": [
    "#get the data set to fit into the models\n",
    "X = tips.drop(columns=['tip', 'day'])"
   ]
  },
  {
   "cell_type": "code",
   "execution_count": 118,
   "id": "a27eae27",
   "metadata": {},
   "outputs": [],
   "source": [
    "from sklearn.preprocessing import MinMaxScaler"
   ]
  },
  {
   "cell_type": "code",
   "execution_count": 160,
   "id": "615af569",
   "metadata": {},
   "outputs": [],
   "source": [
    "#scale the data\n",
    "mm = MinMaxScaler()\n",
    "tips.loc[:,['price_per_person']] = mm.fit_transform(tips[['price_per_person']])"
   ]
  },
  {
   "cell_type": "code",
   "execution_count": 173,
   "id": "5671848e",
   "metadata": {},
   "outputs": [],
   "source": [
    "mm1 = MinMaxScaler()\n",
    "tips.loc[:,['total_bill']] = mm1.fit_transform(tips[['total_bill']])"
   ]
  },
  {
   "cell_type": "code",
   "execution_count": 174,
   "id": "a3ffab23",
   "metadata": {},
   "outputs": [],
   "source": [
    "mm2 = MinMaxScaler()\n",
    "tips.loc[:,['size']] = mm1.fit_transform(tips[['size']])"
   ]
  },
  {
   "cell_type": "code",
   "execution_count": 175,
   "id": "d4905808",
   "metadata": {
    "scrolled": true
   },
   "outputs": [
    {
     "data": {
      "text/html": [
       "<div>\n",
       "<style scoped>\n",
       "    .dataframe tbody tr th:only-of-type {\n",
       "        vertical-align: middle;\n",
       "    }\n",
       "\n",
       "    .dataframe tbody tr th {\n",
       "        vertical-align: top;\n",
       "    }\n",
       "\n",
       "    .dataframe thead th {\n",
       "        text-align: right;\n",
       "    }\n",
       "</style>\n",
       "<table border=\"1\" class=\"dataframe\">\n",
       "  <thead>\n",
       "    <tr style=\"text-align: right;\">\n",
       "      <th></th>\n",
       "      <th>total_bill</th>\n",
       "      <th>sex</th>\n",
       "      <th>smoker</th>\n",
       "      <th>time</th>\n",
       "      <th>size</th>\n",
       "      <th>price_per_person</th>\n",
       "      <th>thur</th>\n",
       "      <th>fri</th>\n",
       "      <th>sat</th>\n",
       "      <th>sun</th>\n",
       "    </tr>\n",
       "  </thead>\n",
       "  <tbody>\n",
       "    <tr>\n",
       "      <th>73</th>\n",
       "      <td>25.28</td>\n",
       "      <td>1</td>\n",
       "      <td>1</td>\n",
       "      <td>1</td>\n",
       "      <td>2</td>\n",
       "      <td>12.64</td>\n",
       "      <td>0</td>\n",
       "      <td>0</td>\n",
       "      <td>1</td>\n",
       "      <td>0</td>\n",
       "    </tr>\n",
       "  </tbody>\n",
       "</table>\n",
       "</div>"
      ],
      "text/plain": [
       "    total_bill sex smoker time  size  price_per_person  thur  fri  sat  sun\n",
       "73       25.28   1      1    1     2             12.64     0    0    1    0"
      ]
     },
     "execution_count": 175,
     "metadata": {},
     "output_type": "execute_result"
    }
   ],
   "source": [
    "X.head(1)"
   ]
  },
  {
   "cell_type": "markdown",
   "id": "860a3739",
   "metadata": {},
   "source": [
    "c) Use ```select k best``` to select the top 2 features for predicting ```tip``` amount. What are they?"
   ]
  },
  {
   "cell_type": "code",
   "execution_count": 147,
   "id": "e85b02e6",
   "metadata": {
    "scrolled": true
   },
   "outputs": [
    {
     "data": {
      "text/plain": [
       "['total_bill', 'size']"
      ]
     },
     "execution_count": 147,
     "metadata": {},
     "output_type": "execute_result"
    }
   ],
   "source": [
    "#SelectKBest(f_regression, k=2).fit_transform(X, y)\n",
    "kbest = SelectKBest(f_regression, k=2)\n",
    "kbest.fit(X, y)\n",
    "X.columns[kbest.get_support()].tolist()"
   ]
  },
  {
   "cell_type": "code",
   "execution_count": 61,
   "id": "6751fb55",
   "metadata": {},
   "outputs": [],
   "source": [
    "# Best features from kbest -> total_bill, size\n",
    "# after adding price_per_person -> total_bill and price_per_person"
   ]
  },
  {
   "cell_type": "markdown",
   "id": "4ddb4d76",
   "metadata": {},
   "source": [
    "d) Use ```recursive feature elimination``` to select the top 2 features for ```tip amount```. What are they?"
   ]
  },
  {
   "cell_type": "code",
   "execution_count": 148,
   "id": "7de27f32",
   "metadata": {},
   "outputs": [
    {
     "data": {
      "text/plain": [
       "['total_bill', 'price_per_person']"
      ]
     },
     "execution_count": 148,
     "metadata": {},
     "output_type": "execute_result"
    }
   ],
   "source": [
    "model = LinearRegression()\n",
    "rfe = RFE(model, n_features_to_select=2)\n",
    "rfe.fit(X, y)\n",
    "X.columns[rfe.get_support()].tolist()"
   ]
  },
  {
   "cell_type": "code",
   "execution_count": 48,
   "id": "2e2d5020",
   "metadata": {},
   "outputs": [],
   "source": [
    "# RFE picks 'size' and 'fri' (Friday) as the best estimators\n",
    "# after adding price_per_person -> sun and price_per_person"
   ]
  },
  {
   "cell_type": "markdown",
   "id": "01da6187",
   "metadata": {},
   "source": [
    "e) Why do you think ```select k best``` and ```recursive feature elimination``` might give different answers for the top features? Does this change as you change the number of features you are selecting?"
   ]
  },
  {
   "cell_type": "markdown",
   "id": "7fd2a3e6",
   "metadata": {},
   "source": [
    "This to algorithms work differently. Select K best looks for strongest correlations, and RFE runs the model over and over again with different features and selects the best performing one"
   ]
  },
  {
   "cell_type": "code",
   "execution_count": 149,
   "id": "abf47972",
   "metadata": {},
   "outputs": [
    {
     "name": "stdout",
     "output_type": "stream",
     "text": [
      "Nuber of features = 3\n",
      "K-best features: ['total_bill', 'size', 'price_per_person']\n",
      "RFE features: ['total_bill', 'price_per_person', 'sun']\n"
     ]
    }
   ],
   "source": [
    "kbest3 = SelectKBest(f_regression, k=3)\n",
    "kbest3.fit(X, y)\n",
    "\n",
    "rfe3 = RFE(model, n_features_to_select=3)\n",
    "rfe3.fit(X, y)\n",
    "\n",
    "print('Nuber of features = 3')\n",
    "print(f'K-best features: {X.columns[kbest3.get_support()].tolist()}')\n",
    "print(f'RFE features: {X.columns[rfe3.get_support()].tolist()}')"
   ]
  },
  {
   "cell_type": "code",
   "execution_count": 150,
   "id": "5b49fda1",
   "metadata": {},
   "outputs": [
    {
     "name": "stdout",
     "output_type": "stream",
     "text": [
      "Nuber of features = 4\n",
      "K-best features: ['total_bill', 'size', 'price_per_person', 'sun']\n",
      "RFE features: ['total_bill', 'time', 'price_per_person', 'sun']\n"
     ]
    }
   ],
   "source": [
    "kbest4 = SelectKBest(f_regression, k=4)\n",
    "kbest4.fit(X, y)\n",
    "\n",
    "rfe4 = RFE(model, n_features_to_select=4)\n",
    "rfe4.fit(X, y)\n",
    "\n",
    "print('Nuber of features = 4')\n",
    "print(f'K-best features: {X.columns[kbest4.get_support()].tolist()}')\n",
    "print(f'RFE features: {X.columns[rfe4.get_support()].tolist()}')"
   ]
  },
  {
   "cell_type": "code",
   "execution_count": 151,
   "id": "4a7ff2c2",
   "metadata": {
    "scrolled": true
   },
   "outputs": [
    {
     "data": {
      "text/html": [
       "<div>\n",
       "<style scoped>\n",
       "    .dataframe tbody tr th:only-of-type {\n",
       "        vertical-align: middle;\n",
       "    }\n",
       "\n",
       "    .dataframe tbody tr th {\n",
       "        vertical-align: top;\n",
       "    }\n",
       "\n",
       "    .dataframe thead th {\n",
       "        text-align: right;\n",
       "    }\n",
       "</style>\n",
       "<table border=\"1\" class=\"dataframe\">\n",
       "  <thead>\n",
       "    <tr style=\"text-align: right;\">\n",
       "      <th></th>\n",
       "      <th>rfe_2</th>\n",
       "    </tr>\n",
       "  </thead>\n",
       "  <tbody>\n",
       "    <tr>\n",
       "      <th>total_bill</th>\n",
       "      <td>1</td>\n",
       "    </tr>\n",
       "    <tr>\n",
       "      <th>sex</th>\n",
       "      <td>7</td>\n",
       "    </tr>\n",
       "    <tr>\n",
       "      <th>smoker</th>\n",
       "      <td>5</td>\n",
       "    </tr>\n",
       "    <tr>\n",
       "      <th>time</th>\n",
       "      <td>3</td>\n",
       "    </tr>\n",
       "    <tr>\n",
       "      <th>size</th>\n",
       "      <td>8</td>\n",
       "    </tr>\n",
       "    <tr>\n",
       "      <th>price_per_person</th>\n",
       "      <td>1</td>\n",
       "    </tr>\n",
       "    <tr>\n",
       "      <th>thur</th>\n",
       "      <td>6</td>\n",
       "    </tr>\n",
       "    <tr>\n",
       "      <th>fri</th>\n",
       "      <td>4</td>\n",
       "    </tr>\n",
       "    <tr>\n",
       "      <th>sat</th>\n",
       "      <td>9</td>\n",
       "    </tr>\n",
       "    <tr>\n",
       "      <th>sun</th>\n",
       "      <td>2</td>\n",
       "    </tr>\n",
       "  </tbody>\n",
       "</table>\n",
       "</div>"
      ],
      "text/plain": [
       "                  rfe_2\n",
       "total_bill            1\n",
       "sex                   7\n",
       "smoker                5\n",
       "time                  3\n",
       "size                  8\n",
       "price_per_person      1\n",
       "thur                  6\n",
       "fri                   4\n",
       "sat                   9\n",
       "sun                   2"
      ]
     },
     "execution_count": 151,
     "metadata": {},
     "output_type": "execute_result"
    }
   ],
   "source": [
    "pd.DataFrame(\n",
    "{\n",
    "    'rfe_2': rfe.ranking_\n",
    "},index = X.columns) "
   ]
  },
  {
   "cell_type": "code",
   "execution_count": 115,
   "id": "dd17000a",
   "metadata": {},
   "outputs": [
    {
     "data": {
      "text/html": [
       "<div>\n",
       "<style scoped>\n",
       "    .dataframe tbody tr th:only-of-type {\n",
       "        vertical-align: middle;\n",
       "    }\n",
       "\n",
       "    .dataframe tbody tr th {\n",
       "        vertical-align: top;\n",
       "    }\n",
       "\n",
       "    .dataframe thead th {\n",
       "        text-align: right;\n",
       "    }\n",
       "</style>\n",
       "<table border=\"1\" class=\"dataframe\">\n",
       "  <thead>\n",
       "    <tr style=\"text-align: right;\">\n",
       "      <th></th>\n",
       "      <th>rfe_3</th>\n",
       "    </tr>\n",
       "  </thead>\n",
       "  <tbody>\n",
       "    <tr>\n",
       "      <th>total_bill</th>\n",
       "      <td>2</td>\n",
       "    </tr>\n",
       "    <tr>\n",
       "      <th>sex</th>\n",
       "      <td>5</td>\n",
       "    </tr>\n",
       "    <tr>\n",
       "      <th>smoker</th>\n",
       "      <td>4</td>\n",
       "    </tr>\n",
       "    <tr>\n",
       "      <th>time</th>\n",
       "      <td>1</td>\n",
       "    </tr>\n",
       "    <tr>\n",
       "      <th>size</th>\n",
       "      <td>7</td>\n",
       "    </tr>\n",
       "    <tr>\n",
       "      <th>price_per_person</th>\n",
       "      <td>6</td>\n",
       "    </tr>\n",
       "    <tr>\n",
       "      <th>thur</th>\n",
       "      <td>3</td>\n",
       "    </tr>\n",
       "    <tr>\n",
       "      <th>fri</th>\n",
       "      <td>1</td>\n",
       "    </tr>\n",
       "    <tr>\n",
       "      <th>sat</th>\n",
       "      <td>8</td>\n",
       "    </tr>\n",
       "    <tr>\n",
       "      <th>sun</th>\n",
       "      <td>1</td>\n",
       "    </tr>\n",
       "  </tbody>\n",
       "</table>\n",
       "</div>"
      ],
      "text/plain": [
       "                  rfe_3\n",
       "total_bill            2\n",
       "sex                   5\n",
       "smoker                4\n",
       "time                  1\n",
       "size                  7\n",
       "price_per_person      6\n",
       "thur                  3\n",
       "fri                   1\n",
       "sat                   8\n",
       "sun                   1"
      ]
     },
     "execution_count": 115,
     "metadata": {},
     "output_type": "execute_result"
    }
   ],
   "source": [
    "pd.DataFrame(\n",
    "{\n",
    "    'rfe_3': rfe3.ranking_\n",
    "},index = X.columns)"
   ]
  },
  {
   "cell_type": "code",
   "execution_count": 116,
   "id": "897428db",
   "metadata": {},
   "outputs": [
    {
     "data": {
      "text/html": [
       "<div>\n",
       "<style scoped>\n",
       "    .dataframe tbody tr th:only-of-type {\n",
       "        vertical-align: middle;\n",
       "    }\n",
       "\n",
       "    .dataframe tbody tr th {\n",
       "        vertical-align: top;\n",
       "    }\n",
       "\n",
       "    .dataframe thead th {\n",
       "        text-align: right;\n",
       "    }\n",
       "</style>\n",
       "<table border=\"1\" class=\"dataframe\">\n",
       "  <thead>\n",
       "    <tr style=\"text-align: right;\">\n",
       "      <th></th>\n",
       "      <th>rfe_4</th>\n",
       "    </tr>\n",
       "  </thead>\n",
       "  <tbody>\n",
       "    <tr>\n",
       "      <th>total_bill</th>\n",
       "      <td>1</td>\n",
       "    </tr>\n",
       "    <tr>\n",
       "      <th>sex</th>\n",
       "      <td>4</td>\n",
       "    </tr>\n",
       "    <tr>\n",
       "      <th>smoker</th>\n",
       "      <td>3</td>\n",
       "    </tr>\n",
       "    <tr>\n",
       "      <th>time</th>\n",
       "      <td>1</td>\n",
       "    </tr>\n",
       "    <tr>\n",
       "      <th>size</th>\n",
       "      <td>6</td>\n",
       "    </tr>\n",
       "    <tr>\n",
       "      <th>price_per_person</th>\n",
       "      <td>5</td>\n",
       "    </tr>\n",
       "    <tr>\n",
       "      <th>thur</th>\n",
       "      <td>2</td>\n",
       "    </tr>\n",
       "    <tr>\n",
       "      <th>fri</th>\n",
       "      <td>1</td>\n",
       "    </tr>\n",
       "    <tr>\n",
       "      <th>sat</th>\n",
       "      <td>7</td>\n",
       "    </tr>\n",
       "    <tr>\n",
       "      <th>sun</th>\n",
       "      <td>1</td>\n",
       "    </tr>\n",
       "  </tbody>\n",
       "</table>\n",
       "</div>"
      ],
      "text/plain": [
       "                  rfe_4\n",
       "total_bill            1\n",
       "sex                   4\n",
       "smoker                3\n",
       "time                  1\n",
       "size                  6\n",
       "price_per_person      5\n",
       "thur                  2\n",
       "fri                   1\n",
       "sat                   7\n",
       "sun                   1"
      ]
     },
     "execution_count": 116,
     "metadata": {},
     "output_type": "execute_result"
    }
   ],
   "source": [
    "pd.DataFrame(\n",
    "{\n",
    "    'rfe_4': rfe4.ranking_\n",
    "},index = X.columns)"
   ]
  },
  {
   "cell_type": "markdown",
   "id": "ec101fec",
   "metadata": {},
   "source": [
    "2. **Write a function named ```select_kbest``` that takes in the predictors (```X```), the target (```y```), and the number of features to select (```k```) and returns the names of the top k selected features based on the ```SelectKBest class```. Test your function with the ```tips``` dataset. You should see the same results as when you did the process manually.**"
   ]
  },
  {
   "cell_type": "code",
   "execution_count": 82,
   "id": "daec4b99",
   "metadata": {},
   "outputs": [],
   "source": [
    "def select_kbest(X, y, k):\n",
    "    '''\n",
    "    the function accepts the X_train data set, y_train array and k-number of features to select\n",
    "    runs the SelectKBest algorithm and returns the list of features to be selected for the modeling\n",
    "    !KBest doesn't depend on the model\n",
    "    '''\n",
    "    kbest = SelectKBest(f_regression, k=k)\n",
    "    kbest.fit(X, y)\n",
    "    return X.columns[kbest.get_support()].tolist()"
   ]
  },
  {
   "cell_type": "code",
   "execution_count": 83,
   "id": "48aa9022",
   "metadata": {},
   "outputs": [
    {
     "data": {
      "text/plain": [
       "['total_bill', 'size', 'price_per_person']"
      ]
     },
     "execution_count": 83,
     "metadata": {},
     "output_type": "execute_result"
    }
   ],
   "source": [
    "select_kbest(X, y, 3)"
   ]
  },
  {
   "cell_type": "markdown",
   "id": "2ffc1e9e",
   "metadata": {},
   "source": [
    "3. **Write a function named ```rfe``` that takes in the predictors, the target, and the number of features to select. It should return the top k features based on the ```RFE class```. Test your function with the ```tips``` dataset. You should see the same results as when you did the process manually.**"
   ]
  },
  {
   "cell_type": "code",
   "execution_count": 85,
   "id": "0522bde9",
   "metadata": {},
   "outputs": [],
   "source": [
    "def rfe(X, y, k):\n",
    "    '''\n",
    "    The function accepts the X_train data set, y_train array and k-number of features to select\n",
    "    runs the RFE algorithm and returns the list of features to be selected for the modeling\n",
    "    !RFE depends on the model.\n",
    "    This function uses Linear regression\n",
    "    '''\n",
    "    model = LinearRegression()\n",
    "    rfe = RFE(model, n_features_to_select=k)\n",
    "    rfe.fit(X, y)\n",
    "    return X.columns[rfe.get_support()].tolist()"
   ]
  },
  {
   "cell_type": "code",
   "execution_count": 87,
   "id": "fabcb0e7",
   "metadata": {},
   "outputs": [
    {
     "data": {
      "text/plain": [
       "['time', 'sun', 'price_per_person']"
      ]
     },
     "execution_count": 87,
     "metadata": {},
     "output_type": "execute_result"
    }
   ],
   "source": [
    "rfe(X, y, 3)"
   ]
  },
  {
   "cell_type": "code",
   "execution_count": 86,
   "id": "79aae4de",
   "metadata": {},
   "outputs": [],
   "source": [
    "def rfe_model(X, y, model, k):\n",
    "    '''\n",
    "    The function accepts the X_train data set, y_train array,\n",
    "    model (created with hyperparameters) and k-number of features to select\n",
    "    runs the RFE algorithm and returns the list of features to be selected for the modeling\n",
    "    '''\n",
    "    rfe = RFE(model, n_features_to_select=k)\n",
    "    rfe.fit(X, y)\n",
    "    return X.columns[rfe.get_support()].tolist()"
   ]
  },
  {
   "cell_type": "code",
   "execution_count": 88,
   "id": "158ba4e1",
   "metadata": {},
   "outputs": [
    {
     "data": {
      "text/plain": [
       "['time', 'sun', 'price_per_person']"
      ]
     },
     "execution_count": 88,
     "metadata": {},
     "output_type": "execute_result"
    }
   ],
   "source": [
    "rfe_model(X, y, model, 3)"
   ]
  },
  {
   "cell_type": "markdown",
   "id": "5f790e19",
   "metadata": {},
   "source": [
    "4. **Load the ```swiss``` dataset and use all the other features to predict Fertility. Find the top 3 features using both ```select k best``` and ```recursive feature elimination``` (use the functions you just built to help you out).**"
   ]
  },
  {
   "cell_type": "code",
   "execution_count": 17,
   "id": "f2c749e2",
   "metadata": {},
   "outputs": [],
   "source": [
    "from pydataset import data"
   ]
  },
  {
   "cell_type": "code",
   "execution_count": 89,
   "id": "63f4bd22",
   "metadata": {},
   "outputs": [],
   "source": [
    "swiss = data('swiss')"
   ]
  },
  {
   "cell_type": "code",
   "execution_count": 90,
   "id": "aaafad3d",
   "metadata": {},
   "outputs": [
    {
     "data": {
      "text/html": [
       "<div>\n",
       "<style scoped>\n",
       "    .dataframe tbody tr th:only-of-type {\n",
       "        vertical-align: middle;\n",
       "    }\n",
       "\n",
       "    .dataframe tbody tr th {\n",
       "        vertical-align: top;\n",
       "    }\n",
       "\n",
       "    .dataframe thead th {\n",
       "        text-align: right;\n",
       "    }\n",
       "</style>\n",
       "<table border=\"1\" class=\"dataframe\">\n",
       "  <thead>\n",
       "    <tr style=\"text-align: right;\">\n",
       "      <th></th>\n",
       "      <th>Fertility</th>\n",
       "      <th>Agriculture</th>\n",
       "      <th>Examination</th>\n",
       "      <th>Education</th>\n",
       "      <th>Catholic</th>\n",
       "      <th>Infant.Mortality</th>\n",
       "    </tr>\n",
       "  </thead>\n",
       "  <tbody>\n",
       "    <tr>\n",
       "      <th>Courtelary</th>\n",
       "      <td>80.2</td>\n",
       "      <td>17.0</td>\n",
       "      <td>15</td>\n",
       "      <td>12</td>\n",
       "      <td>9.96</td>\n",
       "      <td>22.2</td>\n",
       "    </tr>\n",
       "  </tbody>\n",
       "</table>\n",
       "</div>"
      ],
      "text/plain": [
       "            Fertility  Agriculture  Examination  Education  Catholic  \\\n",
       "Courtelary       80.2         17.0           15         12      9.96   \n",
       "\n",
       "            Infant.Mortality  \n",
       "Courtelary              22.2  "
      ]
     },
     "execution_count": 90,
     "metadata": {},
     "output_type": "execute_result"
    }
   ],
   "source": [
    "swiss.head(1)"
   ]
  },
  {
   "cell_type": "code",
   "execution_count": 91,
   "id": "315e8c91",
   "metadata": {},
   "outputs": [],
   "source": [
    "swiss, _, _ = wr.split_df(swiss)"
   ]
  },
  {
   "cell_type": "code",
   "execution_count": 92,
   "id": "883a84dc",
   "metadata": {},
   "outputs": [],
   "source": [
    "y_swiss = swiss.Fertility"
   ]
  },
  {
   "cell_type": "code",
   "execution_count": 94,
   "id": "33637261",
   "metadata": {},
   "outputs": [],
   "source": [
    "X_swiss = swiss.drop(columns='Fertility')"
   ]
  },
  {
   "cell_type": "code",
   "execution_count": 95,
   "id": "af831c4c",
   "metadata": {},
   "outputs": [
    {
     "data": {
      "text/html": [
       "<div>\n",
       "<style scoped>\n",
       "    .dataframe tbody tr th:only-of-type {\n",
       "        vertical-align: middle;\n",
       "    }\n",
       "\n",
       "    .dataframe tbody tr th {\n",
       "        vertical-align: top;\n",
       "    }\n",
       "\n",
       "    .dataframe thead th {\n",
       "        text-align: right;\n",
       "    }\n",
       "</style>\n",
       "<table border=\"1\" class=\"dataframe\">\n",
       "  <thead>\n",
       "    <tr style=\"text-align: right;\">\n",
       "      <th></th>\n",
       "      <th>Agriculture</th>\n",
       "      <th>Examination</th>\n",
       "      <th>Education</th>\n",
       "      <th>Catholic</th>\n",
       "      <th>Infant.Mortality</th>\n",
       "    </tr>\n",
       "  </thead>\n",
       "  <tbody>\n",
       "    <tr>\n",
       "      <th>Le Locle</th>\n",
       "      <td>16.7</td>\n",
       "      <td>22</td>\n",
       "      <td>13</td>\n",
       "      <td>11.22</td>\n",
       "      <td>18.9</td>\n",
       "    </tr>\n",
       "  </tbody>\n",
       "</table>\n",
       "</div>"
      ],
      "text/plain": [
       "          Agriculture  Examination  Education  Catholic  Infant.Mortality\n",
       "Le Locle         16.7           22         13     11.22              18.9"
      ]
     },
     "execution_count": 95,
     "metadata": {},
     "output_type": "execute_result"
    }
   ],
   "source": [
    "X_swiss.head(1)"
   ]
  },
  {
   "cell_type": "code",
   "execution_count": 96,
   "id": "6896cea1",
   "metadata": {},
   "outputs": [
    {
     "data": {
      "text/plain": [
       "['Examination', 'Education', 'Catholic']"
      ]
     },
     "execution_count": 96,
     "metadata": {},
     "output_type": "execute_result"
    }
   ],
   "source": [
    "select_kbest(X_swiss, y_swiss, 3)"
   ]
  },
  {
   "cell_type": "code",
   "execution_count": 97,
   "id": "3587fd36",
   "metadata": {},
   "outputs": [
    {
     "data": {
      "text/plain": [
       "['Agriculture', 'Education', 'Infant.Mortality']"
      ]
     },
     "execution_count": 97,
     "metadata": {},
     "output_type": "execute_result"
    }
   ],
   "source": [
    "rfe(X_swiss, y_swiss, 3)"
   ]
  }
 ],
 "metadata": {
  "kernelspec": {
   "display_name": "Python 3 (ipykernel)",
   "language": "python",
   "name": "python3"
  },
  "language_info": {
   "codemirror_mode": {
    "name": "ipython",
    "version": 3
   },
   "file_extension": ".py",
   "mimetype": "text/x-python",
   "name": "python",
   "nbconvert_exporter": "python",
   "pygments_lexer": "ipython3",
   "version": "3.9.12"
  }
 },
 "nbformat": 4,
 "nbformat_minor": 5
}
