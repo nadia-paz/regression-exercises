{
 "cells": [
  {
   "cell_type": "markdown",
   "id": "6c323f05",
   "metadata": {},
   "source": [
    "## *Modeling exercises*"
   ]
  },
  {
   "cell_type": "code",
   "execution_count": 3,
   "id": "2ed13ad8",
   "metadata": {},
   "outputs": [],
   "source": [
    "import numpy as np\n",
    "import pandas as pd\n",
    "import matplotlib.pyplot as plt\n",
    "\n",
    "from sklearn.feature_selection import RFE\n",
    "from sklearn.metrics import mean_squared_error\n",
    "from sklearn.preprocessing import MinMaxScaler, PolynomialFeatures\n",
    "from sklearn.linear_model import LinearRegression, LassoLars, TweedieRegressor\n",
    "\n",
    "import wrangle as wr\n",
    "import evaluate as ev\n",
    "import explore as ex"
   ]
  },
  {
   "cell_type": "markdown",
   "id": "66f2ee01",
   "metadata": {},
   "source": [
    "1. Select a dataset with a continuous target variable.\n",
    "\n",
    "2. Be sure your data is prepared (no missing values, numeric datatypes) and split into samples."
   ]
  },
  {
   "cell_type": "code",
   "execution_count": 4,
   "id": "8b6d5d2a",
   "metadata": {},
   "outputs": [],
   "source": [
    "train, validate, test = wr.split_zillow(wr.get_zillow())"
   ]
  },
  {
   "cell_type": "code",
   "execution_count": 5,
   "id": "8a4c7c31",
   "metadata": {},
   "outputs": [
    {
     "data": {
      "text/html": [
       "<div>\n",
       "<style scoped>\n",
       "    .dataframe tbody tr th:only-of-type {\n",
       "        vertical-align: middle;\n",
       "    }\n",
       "\n",
       "    .dataframe tbody tr th {\n",
       "        vertical-align: top;\n",
       "    }\n",
       "\n",
       "    .dataframe thead th {\n",
       "        text-align: right;\n",
       "    }\n",
       "</style>\n",
       "<table border=\"1\" class=\"dataframe\">\n",
       "  <thead>\n",
       "    <tr style=\"text-align: right;\">\n",
       "      <th></th>\n",
       "      <th>id</th>\n",
       "      <th>bedrooms</th>\n",
       "      <th>bathrooms</th>\n",
       "      <th>sq_feet</th>\n",
       "      <th>home_value</th>\n",
       "      <th>year_built</th>\n",
       "      <th>tax_amount</th>\n",
       "      <th>fips</th>\n",
       "      <th>county_name</th>\n",
       "      <th>LA</th>\n",
       "      <th>Ventura</th>\n",
       "      <th>house_age</th>\n",
       "    </tr>\n",
       "  </thead>\n",
       "  <tbody>\n",
       "    <tr>\n",
       "      <th>738365</th>\n",
       "      <td>1022663</td>\n",
       "      <td>2</td>\n",
       "      <td>1.0</td>\n",
       "      <td>1078</td>\n",
       "      <td>260058</td>\n",
       "      <td>1950.0</td>\n",
       "      <td>3554.54</td>\n",
       "      <td>6037</td>\n",
       "      <td>LA</td>\n",
       "      <td>1</td>\n",
       "      <td>0</td>\n",
       "      <td>67</td>\n",
       "    </tr>\n",
       "  </tbody>\n",
       "</table>\n",
       "</div>"
      ],
      "text/plain": [
       "             id  bedrooms  bathrooms  sq_feet  home_value  year_built  \\\n",
       "738365  1022663         2        1.0     1078      260058      1950.0   \n",
       "\n",
       "        tax_amount  fips county_name  LA  Ventura  house_age  \n",
       "738365     3554.54  6037          LA   1        0         67  "
      ]
     },
     "execution_count": 5,
     "metadata": {},
     "output_type": "execute_result"
    }
   ],
   "source": [
    "train.head(1)"
   ]
  },
  {
   "cell_type": "code",
   "execution_count": 6,
   "id": "872b6b4e",
   "metadata": {},
   "outputs": [
    {
     "data": {
      "text/plain": [
       "id             0\n",
       "bedrooms       0\n",
       "bathrooms      0\n",
       "sq_feet        0\n",
       "home_value     0\n",
       "year_built     0\n",
       "tax_amount     0\n",
       "fips           0\n",
       "county_name    0\n",
       "LA             0\n",
       "Ventura        0\n",
       "house_age      0\n",
       "dtype: int64"
      ]
     },
     "execution_count": 6,
     "metadata": {},
     "output_type": "execute_result"
    }
   ],
   "source": [
    "train.isnull().sum()"
   ]
  },
  {
   "cell_type": "code",
   "execution_count": 7,
   "id": "d007bc7b",
   "metadata": {},
   "outputs": [
    {
     "name": "stdout",
     "output_type": "stream",
     "text": [
      "<class 'pandas.core.frame.DataFrame'>\n",
      "Int64Index: 1198465 entries, 738365 to 1000863\n",
      "Data columns (total 12 columns):\n",
      " #   Column       Non-Null Count    Dtype   \n",
      "---  ------       --------------    -----   \n",
      " 0   id           1198465 non-null  int64   \n",
      " 1   bedrooms     1198465 non-null  uint8   \n",
      " 2   bathrooms    1198465 non-null  float64 \n",
      " 3   sq_feet      1198465 non-null  int64   \n",
      " 4   home_value   1198465 non-null  int64   \n",
      " 5   year_built   1198465 non-null  float64 \n",
      " 6   tax_amount   1198465 non-null  float64 \n",
      " 7   fips         1198465 non-null  int64   \n",
      " 8   county_name  1198465 non-null  category\n",
      " 9   LA           1198465 non-null  int64   \n",
      " 10  Ventura      1198465 non-null  int64   \n",
      " 11  house_age    1198465 non-null  uint8   \n",
      "dtypes: category(1), float64(3), int64(6), uint8(2)\n",
      "memory usage: 94.9 MB\n"
     ]
    }
   ],
   "source": [
    "train.info()"
   ]
  },
  {
   "cell_type": "code",
   "execution_count": null,
   "id": "5e82c6bd",
   "metadata": {},
   "outputs": [],
   "source": []
  },
  {
   "cell_type": "markdown",
   "id": "b793da69",
   "metadata": {},
   "source": [
    "3. Work through all of the steps outlined in the lesson, from setting the baseline to selected a model and evaluating the final model on your test data."
   ]
  },
  {
   "cell_type": "code",
   "execution_count": null,
   "id": "bcb33ee9",
   "metadata": {},
   "outputs": [],
   "source": []
  },
  {
   "cell_type": "code",
   "execution_count": null,
   "id": "4f33734f",
   "metadata": {},
   "outputs": [],
   "source": []
  },
  {
   "cell_type": "code",
   "execution_count": null,
   "id": "efa80077",
   "metadata": {},
   "outputs": [],
   "source": []
  }
 ],
 "metadata": {
  "kernelspec": {
   "display_name": "Python 3 (ipykernel)",
   "language": "python",
   "name": "python3"
  },
  "language_info": {
   "codemirror_mode": {
    "name": "ipython",
    "version": 3
   },
   "file_extension": ".py",
   "mimetype": "text/x-python",
   "name": "python",
   "nbconvert_exporter": "python",
   "pygments_lexer": "ipython3",
   "version": "3.9.12"
  }
 },
 "nbformat": 4,
 "nbformat_minor": 5
}
