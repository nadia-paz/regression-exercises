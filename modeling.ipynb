{
 "cells": [
  {
   "cell_type": "markdown",
   "id": "6c323f05",
   "metadata": {},
   "source": [
    "## *Modeling exercises*"
   ]
  },
  {
   "cell_type": "code",
   "execution_count": 109,
   "id": "2ed13ad8",
   "metadata": {},
   "outputs": [],
   "source": [
    "import numpy as np\n",
    "import pandas as pd\n",
    "import matplotlib.pyplot as plt\n",
    "\n",
    "from sklearn.feature_selection import RFE\n",
    "from sklearn.metrics import mean_squared_error\n",
    "from sklearn.preprocessing import MinMaxScaler, PolynomialFeatures\n",
    "from sklearn.linear_model import LinearRegression, LassoLars, TweedieRegressor\n",
    "\n",
    "import warnings\n",
    "warnings.filterwarnings(\"ignore\")\n",
    "\n",
    "import wrangle as wr\n",
    "import evaluate as ev\n",
    "import explore as ex"
   ]
  },
  {
   "cell_type": "code",
   "execution_count": 2,
   "id": "382fd284",
   "metadata": {},
   "outputs": [],
   "source": [
    "pd.options.display.float_format = '{:,.3f}'.format"
   ]
  },
  {
   "cell_type": "markdown",
   "id": "66f2ee01",
   "metadata": {},
   "source": [
    "1. Select a dataset with a continuous target variable.\n",
    "\n",
    "2. Be sure your data is prepared (no missing values, numeric datatypes) and split into samples."
   ]
  },
  {
   "cell_type": "code",
   "execution_count": 59,
   "id": "8b6d5d2a",
   "metadata": {},
   "outputs": [],
   "source": [
    "train, validate, test = wr.split_zillow(wr.get_zillow())"
   ]
  },
  {
   "cell_type": "code",
   "execution_count": 40,
   "id": "213ed62d",
   "metadata": {},
   "outputs": [
    {
     "data": {
      "text/plain": [
       "(1198465, 11)"
      ]
     },
     "execution_count": 40,
     "metadata": {},
     "output_type": "execute_result"
    }
   ],
   "source": [
    "train.shape"
   ]
  },
  {
   "cell_type": "code",
   "execution_count": 5,
   "id": "3b0991ab",
   "metadata": {},
   "outputs": [
    {
     "data": {
      "text/plain": [
       "1138541.75"
      ]
     },
     "execution_count": 5,
     "metadata": {},
     "output_type": "execute_result"
    }
   ],
   "source": [
    "1198465 * 0.95"
   ]
  },
  {
   "cell_type": "code",
   "execution_count": 4,
   "id": "8a4c7c31",
   "metadata": {},
   "outputs": [
    {
     "data": {
      "text/html": [
       "<div>\n",
       "<style scoped>\n",
       "    .dataframe tbody tr th:only-of-type {\n",
       "        vertical-align: middle;\n",
       "    }\n",
       "\n",
       "    .dataframe tbody tr th {\n",
       "        vertical-align: top;\n",
       "    }\n",
       "\n",
       "    .dataframe thead th {\n",
       "        text-align: right;\n",
       "    }\n",
       "</style>\n",
       "<table border=\"1\" class=\"dataframe\">\n",
       "  <thead>\n",
       "    <tr style=\"text-align: right;\">\n",
       "      <th></th>\n",
       "      <th>id</th>\n",
       "      <th>bedrooms</th>\n",
       "      <th>bathrooms</th>\n",
       "      <th>sq_feet</th>\n",
       "      <th>year_built</th>\n",
       "      <th>house_age</th>\n",
       "      <th>tax_amount</th>\n",
       "      <th>LA</th>\n",
       "      <th>Ventura</th>\n",
       "      <th>county_name</th>\n",
       "      <th>home_value</th>\n",
       "    </tr>\n",
       "  </thead>\n",
       "  <tbody>\n",
       "    <tr>\n",
       "      <th>738365</th>\n",
       "      <td>1022663</td>\n",
       "      <td>2</td>\n",
       "      <td>1.000</td>\n",
       "      <td>1078</td>\n",
       "      <td>1,950.000</td>\n",
       "      <td>67</td>\n",
       "      <td>3,554.540</td>\n",
       "      <td>1</td>\n",
       "      <td>0</td>\n",
       "      <td>LA</td>\n",
       "      <td>260058</td>\n",
       "    </tr>\n",
       "  </tbody>\n",
       "</table>\n",
       "</div>"
      ],
      "text/plain": [
       "             id  bedrooms  bathrooms  sq_feet  year_built  house_age  \\\n",
       "738365  1022663         2      1.000     1078   1,950.000         67   \n",
       "\n",
       "        tax_amount  LA  Ventura county_name  home_value  \n",
       "738365   3,554.540   1        0          LA      260058  "
      ]
     },
     "execution_count": 4,
     "metadata": {},
     "output_type": "execute_result"
    }
   ],
   "source": [
    "train.head(1)"
   ]
  },
  {
   "cell_type": "code",
   "execution_count": 60,
   "id": "9ebb459b",
   "metadata": {},
   "outputs": [],
   "source": [
    "train = wr.handle_outliers(train)\n",
    "validate = wr.handle_outliers(validate)\n",
    "test = wr.handle_outliers(test)"
   ]
  },
  {
   "cell_type": "code",
   "execution_count": 7,
   "id": "041cd442",
   "metadata": {},
   "outputs": [
    {
     "data": {
      "text/plain": [
       "(1153185, 11)"
      ]
     },
     "execution_count": 7,
     "metadata": {},
     "output_type": "execute_result"
    }
   ],
   "source": [
    "train.shape"
   ]
  },
  {
   "cell_type": "code",
   "execution_count": 8,
   "id": "be656182",
   "metadata": {},
   "outputs": [
    {
     "data": {
      "text/html": [
       "<div>\n",
       "<style scoped>\n",
       "    .dataframe tbody tr th:only-of-type {\n",
       "        vertical-align: middle;\n",
       "    }\n",
       "\n",
       "    .dataframe tbody tr th {\n",
       "        vertical-align: top;\n",
       "    }\n",
       "\n",
       "    .dataframe thead th {\n",
       "        text-align: right;\n",
       "    }\n",
       "</style>\n",
       "<table border=\"1\" class=\"dataframe\">\n",
       "  <thead>\n",
       "    <tr style=\"text-align: right;\">\n",
       "      <th></th>\n",
       "      <th>id</th>\n",
       "      <th>bedrooms</th>\n",
       "      <th>bathrooms</th>\n",
       "      <th>sq_feet</th>\n",
       "      <th>year_built</th>\n",
       "      <th>house_age</th>\n",
       "      <th>tax_amount</th>\n",
       "      <th>LA</th>\n",
       "      <th>Ventura</th>\n",
       "      <th>home_value</th>\n",
       "    </tr>\n",
       "  </thead>\n",
       "  <tbody>\n",
       "    <tr>\n",
       "      <th>count</th>\n",
       "      <td>1,153,185.000</td>\n",
       "      <td>1,153,185.000</td>\n",
       "      <td>1,153,185.000</td>\n",
       "      <td>1,153,185.000</td>\n",
       "      <td>1,153,185.000</td>\n",
       "      <td>1,153,185.000</td>\n",
       "      <td>1,153,185.000</td>\n",
       "      <td>1,153,185.000</td>\n",
       "      <td>1,153,185.000</td>\n",
       "      <td>1,153,185.000</td>\n",
       "    </tr>\n",
       "    <tr>\n",
       "      <th>mean</th>\n",
       "      <td>1,491,482.858</td>\n",
       "      <td>3.230</td>\n",
       "      <td>2.135</td>\n",
       "      <td>1,759.260</td>\n",
       "      <td>1,960.368</td>\n",
       "      <td>56.632</td>\n",
       "      <td>4,880.228</td>\n",
       "      <td>0.664</td>\n",
       "      <td>0.077</td>\n",
       "      <td>396,882.732</td>\n",
       "    </tr>\n",
       "    <tr>\n",
       "      <th>std</th>\n",
       "      <td>860,666.572</td>\n",
       "      <td>0.844</td>\n",
       "      <td>0.797</td>\n",
       "      <td>726.323</td>\n",
       "      <td>21.658</td>\n",
       "      <td>21.658</td>\n",
       "      <td>3,756.772</td>\n",
       "      <td>0.473</td>\n",
       "      <td>0.267</td>\n",
       "      <td>327,504.640</td>\n",
       "    </tr>\n",
       "    <tr>\n",
       "      <th>min</th>\n",
       "      <td>31.000</td>\n",
       "      <td>0.000</td>\n",
       "      <td>0.000</td>\n",
       "      <td>102.000</td>\n",
       "      <td>1,807.000</td>\n",
       "      <td>1.000</td>\n",
       "      <td>6.340</td>\n",
       "      <td>0.000</td>\n",
       "      <td>0.000</td>\n",
       "      <td>22.000</td>\n",
       "    </tr>\n",
       "    <tr>\n",
       "      <th>25%</th>\n",
       "      <td>746,913.000</td>\n",
       "      <td>3.000</td>\n",
       "      <td>2.000</td>\n",
       "      <td>1,245.000</td>\n",
       "      <td>1,949.000</td>\n",
       "      <td>43.000</td>\n",
       "      <td>2,486.180</td>\n",
       "      <td>0.000</td>\n",
       "      <td>0.000</td>\n",
       "      <td>184,270.000</td>\n",
       "    </tr>\n",
       "    <tr>\n",
       "      <th>50%</th>\n",
       "      <td>1,492,032.000</td>\n",
       "      <td>3.000</td>\n",
       "      <td>2.000</td>\n",
       "      <td>1,594.000</td>\n",
       "      <td>1,958.000</td>\n",
       "      <td>59.000</td>\n",
       "      <td>4,000.020</td>\n",
       "      <td>1.000</td>\n",
       "      <td>0.000</td>\n",
       "      <td>318,309.000</td>\n",
       "    </tr>\n",
       "    <tr>\n",
       "      <th>75%</th>\n",
       "      <td>2,235,020.000</td>\n",
       "      <td>4.000</td>\n",
       "      <td>3.000</td>\n",
       "      <td>2,120.000</td>\n",
       "      <td>1,974.000</td>\n",
       "      <td>68.000</td>\n",
       "      <td>6,122.240</td>\n",
       "      <td>1.000</td>\n",
       "      <td>0.000</td>\n",
       "      <td>508,827.000</td>\n",
       "    </tr>\n",
       "    <tr>\n",
       "      <th>max</th>\n",
       "      <td>2,982,282.000</td>\n",
       "      <td>5.000</td>\n",
       "      <td>4.500</td>\n",
       "      <td>29,620.000</td>\n",
       "      <td>2,016.000</td>\n",
       "      <td>210.000</td>\n",
       "      <td>30,998.730</td>\n",
       "      <td>1.000</td>\n",
       "      <td>1.000</td>\n",
       "      <td>8,375,162.000</td>\n",
       "    </tr>\n",
       "  </tbody>\n",
       "</table>\n",
       "</div>"
      ],
      "text/plain": [
       "                 id      bedrooms     bathrooms       sq_feet    year_built  \\\n",
       "count 1,153,185.000 1,153,185.000 1,153,185.000 1,153,185.000 1,153,185.000   \n",
       "mean  1,491,482.858         3.230         2.135     1,759.260     1,960.368   \n",
       "std     860,666.572         0.844         0.797       726.323        21.658   \n",
       "min          31.000         0.000         0.000       102.000     1,807.000   \n",
       "25%     746,913.000         3.000         2.000     1,245.000     1,949.000   \n",
       "50%   1,492,032.000         3.000         2.000     1,594.000     1,958.000   \n",
       "75%   2,235,020.000         4.000         3.000     2,120.000     1,974.000   \n",
       "max   2,982,282.000         5.000         4.500    29,620.000     2,016.000   \n",
       "\n",
       "          house_age    tax_amount            LA       Ventura    home_value  \n",
       "count 1,153,185.000 1,153,185.000 1,153,185.000 1,153,185.000 1,153,185.000  \n",
       "mean         56.632     4,880.228         0.664         0.077   396,882.732  \n",
       "std          21.658     3,756.772         0.473         0.267   327,504.640  \n",
       "min           1.000         6.340         0.000         0.000        22.000  \n",
       "25%          43.000     2,486.180         0.000         0.000   184,270.000  \n",
       "50%          59.000     4,000.020         1.000         0.000   318,309.000  \n",
       "75%          68.000     6,122.240         1.000         0.000   508,827.000  \n",
       "max         210.000    30,998.730         1.000         1.000 8,375,162.000  "
      ]
     },
     "execution_count": 8,
     "metadata": {},
     "output_type": "execute_result"
    }
   ],
   "source": [
    "train.describe()"
   ]
  },
  {
   "cell_type": "code",
   "execution_count": 61,
   "id": "27d2c1a3",
   "metadata": {},
   "outputs": [],
   "source": [
    "columns_to_explore = [\n",
    " 'bedrooms',\n",
    " 'bathrooms',\n",
    " 'sq_feet',\n",
    " 'house_age',\n",
    " 'tax_amount',\n",
    " 'home_value']"
   ]
  },
  {
   "cell_type": "code",
   "execution_count": 7,
   "id": "a50f6275",
   "metadata": {
    "scrolled": true
   },
   "outputs": [
    {
     "data": {
      "image/png": "[encoded data removed]",
      "text/plain": [
       "<Figure size 1440x576 with 6 Axes>"
      ]
     },
     "metadata": {
      "needs_background": "light"
     },
     "output_type": "display_data"
    }
   ],
   "source": [
    "plt.figure(figsize=(20,8))\n",
    "for i, col in enumerate(columns_to_explore):\n",
    "    h =  ((i+2) // 4)\n",
    "    subplot_number = (i+1) \n",
    "    plt.subplot(2, 4, subplot_number)\n",
    "    plt.title(col)\n",
    "    train[col].hist(bins = 20)"
   ]
  },
  {
   "cell_type": "code",
   "execution_count": 18,
   "id": "c00caa4a",
   "metadata": {},
   "outputs": [
    {
     "data": {
      "text/plain": [
       "(1134624, 11)"
      ]
     },
     "execution_count": 18,
     "metadata": {},
     "output_type": "execute_result"
    }
   ],
   "source": [
    "train.shape"
   ]
  },
  {
   "cell_type": "markdown",
   "id": "b793da69",
   "metadata": {},
   "source": [
    "3. Work through all of the steps outlined in the lesson, from setting the baseline to selected a model and evaluating the final model on your test data."
   ]
  },
  {
   "cell_type": "code",
   "execution_count": 62,
   "id": "ea27c144",
   "metadata": {},
   "outputs": [],
   "source": [
    "# split data and move target var into separate Series\n",
    "X_train, X_validate, X_test, y_train, y_validate, y_test = wr.full_split3_zillow(train, validate, test, 'home_value')"
   ]
  },
  {
   "cell_type": "code",
   "execution_count": 63,
   "id": "68aee91d",
   "metadata": {},
   "outputs": [],
   "source": [
    "# drop id columns from data sets\n",
    "\n",
    "X_train.drop(columns=['id', 'county_name'], inplace=True)\n",
    "X_validate.drop(columns=['id', 'county_name'], inplace=True)\n",
    "X_test.drop(columns=['id', 'county_name'], inplace=True)"
   ]
  },
  {
   "cell_type": "code",
   "execution_count": 64,
   "id": "5cc6f710",
   "metadata": {},
   "outputs": [
    {
     "data": {
      "text/html": [
       "<div>\n",
       "<style scoped>\n",
       "    .dataframe tbody tr th:only-of-type {\n",
       "        vertical-align: middle;\n",
       "    }\n",
       "\n",
       "    .dataframe tbody tr th {\n",
       "        vertical-align: top;\n",
       "    }\n",
       "\n",
       "    .dataframe thead th {\n",
       "        text-align: right;\n",
       "    }\n",
       "</style>\n",
       "<table border=\"1\" class=\"dataframe\">\n",
       "  <thead>\n",
       "    <tr style=\"text-align: right;\">\n",
       "      <th></th>\n",
       "      <th>bedrooms</th>\n",
       "      <th>bathrooms</th>\n",
       "      <th>sq_feet</th>\n",
       "      <th>year_built</th>\n",
       "      <th>house_age</th>\n",
       "      <th>tax_amount</th>\n",
       "      <th>LA</th>\n",
       "      <th>Ventura</th>\n",
       "    </tr>\n",
       "  </thead>\n",
       "  <tbody>\n",
       "    <tr>\n",
       "      <th>738365</th>\n",
       "      <td>2</td>\n",
       "      <td>1.000</td>\n",
       "      <td>1078</td>\n",
       "      <td>1,950.000</td>\n",
       "      <td>67</td>\n",
       "      <td>3,554.540</td>\n",
       "      <td>1</td>\n",
       "      <td>0</td>\n",
       "    </tr>\n",
       "  </tbody>\n",
       "</table>\n",
       "</div>"
      ],
      "text/plain": [
       "        bedrooms  bathrooms  sq_feet  year_built  house_age  tax_amount  LA  \\\n",
       "738365         2      1.000     1078   1,950.000         67   3,554.540   1   \n",
       "\n",
       "        Ventura  \n",
       "738365        0  "
      ]
     },
     "execution_count": 64,
     "metadata": {},
     "output_type": "execute_result"
    }
   ],
   "source": [
    "X_train.head(1)"
   ]
  },
  {
   "cell_type": "code",
   "execution_count": 65,
   "id": "7a790368",
   "metadata": {
    "scrolled": true
   },
   "outputs": [
    {
     "data": {
      "text/html": [
       "<div>\n",
       "<style scoped>\n",
       "    .dataframe tbody tr th:only-of-type {\n",
       "        vertical-align: middle;\n",
       "    }\n",
       "\n",
       "    .dataframe tbody tr th {\n",
       "        vertical-align: top;\n",
       "    }\n",
       "\n",
       "    .dataframe thead th {\n",
       "        text-align: right;\n",
       "    }\n",
       "</style>\n",
       "<table border=\"1\" class=\"dataframe\">\n",
       "  <thead>\n",
       "    <tr style=\"text-align: right;\">\n",
       "      <th></th>\n",
       "      <th>bedrooms</th>\n",
       "      <th>bathrooms</th>\n",
       "      <th>sq_feet</th>\n",
       "      <th>year_built</th>\n",
       "      <th>house_age</th>\n",
       "      <th>tax_amount</th>\n",
       "    </tr>\n",
       "  </thead>\n",
       "  <tbody>\n",
       "    <tr>\n",
       "      <th>738365</th>\n",
       "      <td>2</td>\n",
       "      <td>1.000</td>\n",
       "      <td>1078</td>\n",
       "      <td>1,950.000</td>\n",
       "      <td>67</td>\n",
       "      <td>3,554.540</td>\n",
       "    </tr>\n",
       "  </tbody>\n",
       "</table>\n",
       "</div>"
      ],
      "text/plain": [
       "        bedrooms  bathrooms  sq_feet  year_built  house_age  tax_amount\n",
       "738365         2      1.000     1078   1,950.000         67   3,554.540"
      ]
     },
     "execution_count": 65,
     "metadata": {},
     "output_type": "execute_result"
    }
   ],
   "source": [
    "X_train.iloc[:, :-2].head(1)"
   ]
  },
  {
   "cell_type": "code",
   "execution_count": 46,
   "id": "1af0fe21",
   "metadata": {},
   "outputs": [],
   "source": [
    "from sklearn.preprocessing import StandardScaler"
   ]
  },
  {
   "cell_type": "code",
   "execution_count": 66,
   "id": "ae82f5f5",
   "metadata": {},
   "outputs": [],
   "source": [
    "sc = StandardScaler()"
   ]
  },
  {
   "cell_type": "code",
   "execution_count": 67,
   "id": "ecb996dc",
   "metadata": {},
   "outputs": [],
   "source": [
    "X_train.iloc[:, :-2] = sc.fit_transform(X_train.iloc[:, :-2])\n",
    "X_validate.iloc[:, :-2] = sc.transform(X_validate.iloc[:, :-2])\n",
    "X_test.iloc[:, :-2] = sc.transform(X_test.iloc[:, :-2])"
   ]
  },
  {
   "cell_type": "code",
   "execution_count": 68,
   "id": "be04682e",
   "metadata": {},
   "outputs": [
    {
     "data": {
      "text/html": [
       "<div>\n",
       "<style scoped>\n",
       "    .dataframe tbody tr th:only-of-type {\n",
       "        vertical-align: middle;\n",
       "    }\n",
       "\n",
       "    .dataframe tbody tr th {\n",
       "        vertical-align: top;\n",
       "    }\n",
       "\n",
       "    .dataframe thead th {\n",
       "        text-align: right;\n",
       "    }\n",
       "</style>\n",
       "<table border=\"1\" class=\"dataframe\">\n",
       "  <thead>\n",
       "    <tr style=\"text-align: right;\">\n",
       "      <th></th>\n",
       "      <th>bedrooms</th>\n",
       "      <th>bathrooms</th>\n",
       "      <th>sq_feet</th>\n",
       "      <th>year_built</th>\n",
       "      <th>house_age</th>\n",
       "      <th>tax_amount</th>\n",
       "      <th>LA</th>\n",
       "      <th>Ventura</th>\n",
       "    </tr>\n",
       "  </thead>\n",
       "  <tbody>\n",
       "    <tr>\n",
       "      <th>738365</th>\n",
       "      <td>-1.458</td>\n",
       "      <td>-1.424</td>\n",
       "      <td>-0.938</td>\n",
       "      <td>-0.479</td>\n",
       "      <td>0.479</td>\n",
       "      <td>-0.353</td>\n",
       "      <td>1</td>\n",
       "      <td>0</td>\n",
       "    </tr>\n",
       "  </tbody>\n",
       "</table>\n",
       "</div>"
      ],
      "text/plain": [
       "        bedrooms  bathrooms  sq_feet  year_built  house_age  tax_amount  LA  \\\n",
       "738365    -1.458     -1.424   -0.938      -0.479      0.479      -0.353   1   \n",
       "\n",
       "        Ventura  \n",
       "738365        0  "
      ]
     },
     "execution_count": 68,
     "metadata": {},
     "output_type": "execute_result"
    }
   ],
   "source": [
    "X_train.head(1)"
   ]
  },
  {
   "cell_type": "code",
   "execution_count": 69,
   "id": "ad576299",
   "metadata": {},
   "outputs": [
    {
     "data": {
      "text/html": [
       "<div>\n",
       "<style scoped>\n",
       "    .dataframe tbody tr th:only-of-type {\n",
       "        vertical-align: middle;\n",
       "    }\n",
       "\n",
       "    .dataframe tbody tr th {\n",
       "        vertical-align: top;\n",
       "    }\n",
       "\n",
       "    .dataframe thead th {\n",
       "        text-align: right;\n",
       "    }\n",
       "</style>\n",
       "<table border=\"1\" class=\"dataframe\">\n",
       "  <thead>\n",
       "    <tr style=\"text-align: right;\">\n",
       "      <th></th>\n",
       "      <th>bedrooms</th>\n",
       "      <th>bathrooms</th>\n",
       "      <th>sq_feet</th>\n",
       "      <th>year_built</th>\n",
       "      <th>house_age</th>\n",
       "      <th>tax_amount</th>\n",
       "      <th>LA</th>\n",
       "      <th>Ventura</th>\n",
       "    </tr>\n",
       "  </thead>\n",
       "  <tbody>\n",
       "    <tr>\n",
       "      <th>493957</th>\n",
       "      <td>0.912</td>\n",
       "      <td>1.086</td>\n",
       "      <td>0.780</td>\n",
       "      <td>0.491</td>\n",
       "      <td>-0.491</td>\n",
       "      <td>0.819</td>\n",
       "      <td>0</td>\n",
       "      <td>0</td>\n",
       "    </tr>\n",
       "  </tbody>\n",
       "</table>\n",
       "</div>"
      ],
      "text/plain": [
       "        bedrooms  bathrooms  sq_feet  year_built  house_age  tax_amount  LA  \\\n",
       "493957     0.912      1.086    0.780       0.491     -0.491       0.819   0   \n",
       "\n",
       "        Ventura  \n",
       "493957        0  "
      ]
     },
     "execution_count": 69,
     "metadata": {},
     "output_type": "execute_result"
    }
   ],
   "source": [
    "X_validate.head(1)"
   ]
  },
  {
   "cell_type": "code",
   "execution_count": 70,
   "id": "61c0088e",
   "metadata": {},
   "outputs": [
    {
     "data": {
      "text/html": [
       "<div>\n",
       "<style scoped>\n",
       "    .dataframe tbody tr th:only-of-type {\n",
       "        vertical-align: middle;\n",
       "    }\n",
       "\n",
       "    .dataframe tbody tr th {\n",
       "        vertical-align: top;\n",
       "    }\n",
       "\n",
       "    .dataframe thead th {\n",
       "        text-align: right;\n",
       "    }\n",
       "</style>\n",
       "<table border=\"1\" class=\"dataframe\">\n",
       "  <thead>\n",
       "    <tr style=\"text-align: right;\">\n",
       "      <th></th>\n",
       "      <th>bedrooms</th>\n",
       "      <th>bathrooms</th>\n",
       "      <th>sq_feet</th>\n",
       "      <th>year_built</th>\n",
       "      <th>house_age</th>\n",
       "      <th>tax_amount</th>\n",
       "      <th>LA</th>\n",
       "      <th>Ventura</th>\n",
       "    </tr>\n",
       "  </thead>\n",
       "  <tbody>\n",
       "    <tr>\n",
       "      <th>2018398</th>\n",
       "      <td>0.912</td>\n",
       "      <td>1.086</td>\n",
       "      <td>0.479</td>\n",
       "      <td>0.445</td>\n",
       "      <td>-0.445</td>\n",
       "      <td>0.454</td>\n",
       "      <td>1</td>\n",
       "      <td>0</td>\n",
       "    </tr>\n",
       "  </tbody>\n",
       "</table>\n",
       "</div>"
      ],
      "text/plain": [
       "         bedrooms  bathrooms  sq_feet  year_built  house_age  tax_amount  LA  \\\n",
       "2018398     0.912      1.086    0.479       0.445     -0.445       0.454   1   \n",
       "\n",
       "         Ventura  \n",
       "2018398        0  "
      ]
     },
     "execution_count": 70,
     "metadata": {},
     "output_type": "execute_result"
    }
   ],
   "source": [
    "X_test.head(1)"
   ]
  },
  {
   "cell_type": "code",
   "execution_count": 16,
   "id": "ac5922c0",
   "metadata": {
    "scrolled": true
   },
   "outputs": [
    {
     "data": {
      "text/plain": [
       "738365     260058\n",
       "1269373    286165\n",
       "590554     473803\n",
       "869106     112482\n",
       "1718876    216810\n",
       "Name: home_value, dtype: int64"
      ]
     },
     "execution_count": 16,
     "metadata": {},
     "output_type": "execute_result"
    }
   ],
   "source": [
    "y_train[:5]"
   ]
  },
  {
   "cell_type": "code",
   "execution_count": 71,
   "id": "3c9cf4a6",
   "metadata": {},
   "outputs": [],
   "source": [
    "# create a DataFrame to keep predictions of all models\n",
    "\n",
    "train_pred = pd.DataFrame({\n",
    "    'actual': y_train\n",
    "})\n",
    "\n",
    "valid_pred = pd.DataFrame({\n",
    "    'actual': y_validate\n",
    "})\n",
    "train_pred['baseline'] = y_train.mean()\n",
    "valid_pred['baseline'] = y_validate.mean()"
   ]
  },
  {
   "cell_type": "markdown",
   "id": "b7108601",
   "metadata": {},
   "source": [
    "####  *Simple Linear Regression*"
   ]
  },
  {
   "cell_type": "code",
   "execution_count": 72,
   "id": "fb894d8d",
   "metadata": {},
   "outputs": [
    {
     "data": {
      "text/plain": [
       "LinearRegression()"
      ]
     },
     "execution_count": 72,
     "metadata": {},
     "output_type": "execute_result"
    }
   ],
   "source": [
    "# Based on previous explorations we know that tax_amount has a highest correlation with home_value\n",
    "\n",
    "slr = LinearRegression()\n",
    "slr.fit(X_train.tax_amount.values.reshape(-1, 1), y_train)"
   ]
  },
  {
   "cell_type": "code",
   "execution_count": 73,
   "id": "2be2eed5",
   "metadata": {},
   "outputs": [],
   "source": [
    "train_pred['simple_lr'] = slr.predict(X_train.tax_amount.values.reshape(-1, 1))\n",
    "valid_pred['simple_lr'] = slr.predict(X_validate.tax_amount.values.reshape(-1, 1))"
   ]
  },
  {
   "cell_type": "code",
   "execution_count": 74,
   "id": "a187855d",
   "metadata": {},
   "outputs": [
    {
     "data": {
      "text/html": [
       "<div>\n",
       "<style scoped>\n",
       "    .dataframe tbody tr th:only-of-type {\n",
       "        vertical-align: middle;\n",
       "    }\n",
       "\n",
       "    .dataframe tbody tr th {\n",
       "        vertical-align: top;\n",
       "    }\n",
       "\n",
       "    .dataframe thead th {\n",
       "        text-align: right;\n",
       "    }\n",
       "</style>\n",
       "<table border=\"1\" class=\"dataframe\">\n",
       "  <thead>\n",
       "    <tr style=\"text-align: right;\">\n",
       "      <th></th>\n",
       "      <th>actual</th>\n",
       "      <th>baseline</th>\n",
       "      <th>simple_lr</th>\n",
       "    </tr>\n",
       "  </thead>\n",
       "  <tbody>\n",
       "    <tr>\n",
       "      <th>738365</th>\n",
       "      <td>260058</td>\n",
       "      <td>396,882.732</td>\n",
       "      <td>283,758.069</td>\n",
       "    </tr>\n",
       "    <tr>\n",
       "      <th>1269373</th>\n",
       "      <td>286165</td>\n",
       "      <td>396,882.732</td>\n",
       "      <td>234,864.075</td>\n",
       "    </tr>\n",
       "    <tr>\n",
       "      <th>590554</th>\n",
       "      <td>473803</td>\n",
       "      <td>396,882.732</td>\n",
       "      <td>449,709.906</td>\n",
       "    </tr>\n",
       "    <tr>\n",
       "      <th>869106</th>\n",
       "      <td>112482</td>\n",
       "      <td>396,882.732</td>\n",
       "      <td>105,398.840</td>\n",
       "    </tr>\n",
       "    <tr>\n",
       "      <th>1718876</th>\n",
       "      <td>216810</td>\n",
       "      <td>396,882.732</td>\n",
       "      <td>224,530.271</td>\n",
       "    </tr>\n",
       "  </tbody>\n",
       "</table>\n",
       "</div>"
      ],
      "text/plain": [
       "         actual    baseline   simple_lr\n",
       "738365   260058 396,882.732 283,758.069\n",
       "1269373  286165 396,882.732 234,864.075\n",
       "590554   473803 396,882.732 449,709.906\n",
       "869106   112482 396,882.732 105,398.840\n",
       "1718876  216810 396,882.732 224,530.271"
      ]
     },
     "execution_count": 74,
     "metadata": {},
     "output_type": "execute_result"
    }
   ],
   "source": [
    "train_pred.head()"
   ]
  },
  {
   "cell_type": "code",
   "execution_count": 75,
   "id": "a03b3a48",
   "metadata": {},
   "outputs": [
    {
     "data": {
      "text/html": [
       "<div>\n",
       "<style scoped>\n",
       "    .dataframe tbody tr th:only-of-type {\n",
       "        vertical-align: middle;\n",
       "    }\n",
       "\n",
       "    .dataframe tbody tr th {\n",
       "        vertical-align: top;\n",
       "    }\n",
       "\n",
       "    .dataframe thead th {\n",
       "        text-align: right;\n",
       "    }\n",
       "</style>\n",
       "<table border=\"1\" class=\"dataframe\">\n",
       "  <thead>\n",
       "    <tr style=\"text-align: right;\">\n",
       "      <th></th>\n",
       "      <th>actual</th>\n",
       "      <th>baseline</th>\n",
       "      <th>simple_lr</th>\n",
       "    </tr>\n",
       "  </thead>\n",
       "  <tbody>\n",
       "    <tr>\n",
       "      <th>493957</th>\n",
       "      <td>774790</td>\n",
       "      <td>397,122.076</td>\n",
       "      <td>659,275.344</td>\n",
       "    </tr>\n",
       "    <tr>\n",
       "      <th>943659</th>\n",
       "      <td>49029</td>\n",
       "      <td>397,122.076</td>\n",
       "      <td>72,872.533</td>\n",
       "    </tr>\n",
       "    <tr>\n",
       "      <th>918584</th>\n",
       "      <td>1651006</td>\n",
       "      <td>397,122.076</td>\n",
       "      <td>1,689,930.155</td>\n",
       "    </tr>\n",
       "    <tr>\n",
       "      <th>1081016</th>\n",
       "      <td>300689</td>\n",
       "      <td>397,122.076</td>\n",
       "      <td>292,847.720</td>\n",
       "    </tr>\n",
       "    <tr>\n",
       "      <th>1536342</th>\n",
       "      <td>135257</td>\n",
       "      <td>397,122.076</td>\n",
       "      <td>155,056.563</td>\n",
       "    </tr>\n",
       "  </tbody>\n",
       "</table>\n",
       "</div>"
      ],
      "text/plain": [
       "          actual    baseline     simple_lr\n",
       "493957    774790 397,122.076   659,275.344\n",
       "943659     49029 397,122.076    72,872.533\n",
       "918584   1651006 397,122.076 1,689,930.155\n",
       "1081016   300689 397,122.076   292,847.720\n",
       "1536342   135257 397,122.076   155,056.563"
      ]
     },
     "execution_count": 75,
     "metadata": {},
     "output_type": "execute_result"
    }
   ],
   "source": [
    "valid_pred.head()"
   ]
  },
  {
   "cell_type": "markdown",
   "id": "d01c0866",
   "metadata": {},
   "source": [
    "#### *Multiple Linear Regression*"
   ]
  },
  {
   "cell_type": "code",
   "execution_count": 49,
   "id": "16d67e14",
   "metadata": {},
   "outputs": [
    {
     "data": {
      "text/plain": [
       "['bedrooms',\n",
       " 'bathrooms',\n",
       " 'sq_feet',\n",
       " 'year_built',\n",
       " 'house_age',\n",
       " 'tax_amount',\n",
       " 'LA',\n",
       " 'Ventura']"
      ]
     },
     "execution_count": 49,
     "metadata": {},
     "output_type": "execute_result"
    }
   ],
   "source": [
    "X_train.columns.tolist()"
   ]
  },
  {
   "cell_type": "code",
   "execution_count": 76,
   "id": "27a58cf7",
   "metadata": {},
   "outputs": [
    {
     "data": {
      "text/plain": [
       "LinearRegression()"
      ]
     },
     "execution_count": 76,
     "metadata": {},
     "output_type": "execute_result"
    }
   ],
   "source": [
    "mlr = LinearRegression()\n",
    "mlr.fit(X_train, y_train)"
   ]
  },
  {
   "cell_type": "code",
   "execution_count": 77,
   "id": "59f37e3c",
   "metadata": {},
   "outputs": [],
   "source": [
    "train_pred['multiple_lr'] = mlr.predict(X_train)\n",
    "valid_pred['multiple_lr'] = mlr.predict(X_validate)"
   ]
  },
  {
   "cell_type": "code",
   "execution_count": 78,
   "id": "717424ca",
   "metadata": {},
   "outputs": [
    {
     "data": {
      "text/plain": [
       "RFE(estimator=LinearRegression(), n_features_to_select=3)"
      ]
     },
     "execution_count": 78,
     "metadata": {},
     "output_type": "execute_result"
    }
   ],
   "source": [
    "mlr2 = LinearRegression()\n",
    "rfe = RFE(mlr2, n_features_to_select=3)\n",
    "rfe.fit(X_train.drop(columns='year_built'), y_train)"
   ]
  },
  {
   "cell_type": "code",
   "execution_count": 79,
   "id": "82ad0624",
   "metadata": {},
   "outputs": [
    {
     "data": {
      "text/plain": [
       "['house_age', 'tax_amount', 'LA']"
      ]
     },
     "execution_count": 79,
     "metadata": {},
     "output_type": "execute_result"
    }
   ],
   "source": [
    "X_train.drop(columns='year_built').columns[rfe.support_].tolist()"
   ]
  },
  {
   "cell_type": "code",
   "execution_count": 80,
   "id": "654f9490",
   "metadata": {},
   "outputs": [],
   "source": [
    "mlr_cols = ['house_age', 'tax_amount', 'LA']"
   ]
  },
  {
   "cell_type": "code",
   "execution_count": 81,
   "id": "7a96d5fc",
   "metadata": {},
   "outputs": [
    {
     "data": {
      "text/plain": [
       "LinearRegression()"
      ]
     },
     "execution_count": 81,
     "metadata": {},
     "output_type": "execute_result"
    }
   ],
   "source": [
    "mlr2.fit(X_train[mlr_cols], y_train)"
   ]
  },
  {
   "cell_type": "code",
   "execution_count": 82,
   "id": "5ff5094d",
   "metadata": {},
   "outputs": [],
   "source": [
    "train_pred['multiple_lr_fs'] = mlr2.predict(X_train[mlr_cols])\n",
    "valid_pred['multiple_lr_fs'] = mlr2.predict(X_validate[mlr_cols])"
   ]
  },
  {
   "cell_type": "code",
   "execution_count": 83,
   "id": "b64b1fda",
   "metadata": {},
   "outputs": [
    {
     "data": {
      "text/html": [
       "<div>\n",
       "<style scoped>\n",
       "    .dataframe tbody tr th:only-of-type {\n",
       "        vertical-align: middle;\n",
       "    }\n",
       "\n",
       "    .dataframe tbody tr th {\n",
       "        vertical-align: top;\n",
       "    }\n",
       "\n",
       "    .dataframe thead th {\n",
       "        text-align: right;\n",
       "    }\n",
       "</style>\n",
       "<table border=\"1\" class=\"dataframe\">\n",
       "  <thead>\n",
       "    <tr style=\"text-align: right;\">\n",
       "      <th></th>\n",
       "      <th>bedrooms</th>\n",
       "      <th>bathrooms</th>\n",
       "      <th>bedrooms^2</th>\n",
       "      <th>bedrooms bathrooms</th>\n",
       "      <th>bathrooms^2</th>\n",
       "    </tr>\n",
       "  </thead>\n",
       "  <tbody>\n",
       "    <tr>\n",
       "      <th>738365</th>\n",
       "      <td>-1.458</td>\n",
       "      <td>-1.424</td>\n",
       "      <td>2.125</td>\n",
       "      <td>2.076</td>\n",
       "      <td>2.028</td>\n",
       "    </tr>\n",
       "    <tr>\n",
       "      <th>1269373</th>\n",
       "      <td>-0.273</td>\n",
       "      <td>-0.169</td>\n",
       "      <td>0.074</td>\n",
       "      <td>0.046</td>\n",
       "      <td>0.029</td>\n",
       "    </tr>\n",
       "    <tr>\n",
       "      <th>590554</th>\n",
       "      <td>2.097</td>\n",
       "      <td>1.086</td>\n",
       "      <td>4.398</td>\n",
       "      <td>2.278</td>\n",
       "      <td>1.180</td>\n",
       "    </tr>\n",
       "    <tr>\n",
       "      <th>869106</th>\n",
       "      <td>-0.273</td>\n",
       "      <td>-0.169</td>\n",
       "      <td>0.074</td>\n",
       "      <td>0.046</td>\n",
       "      <td>0.029</td>\n",
       "    </tr>\n",
       "    <tr>\n",
       "      <th>1718876</th>\n",
       "      <td>-0.273</td>\n",
       "      <td>-1.424</td>\n",
       "      <td>0.074</td>\n",
       "      <td>0.389</td>\n",
       "      <td>2.028</td>\n",
       "    </tr>\n",
       "  </tbody>\n",
       "</table>\n",
       "</div>"
      ],
      "text/plain": [
       "         bedrooms  bathrooms  bedrooms^2  bedrooms bathrooms  bathrooms^2\n",
       "738365     -1.458     -1.424       2.125               2.076        2.028\n",
       "1269373    -0.273     -0.169       0.074               0.046        0.029\n",
       "590554      2.097      1.086       4.398               2.278        1.180\n",
       "869106     -0.273     -0.169       0.074               0.046        0.029\n",
       "1718876    -0.273     -1.424       0.074               0.389        2.028"
      ]
     },
     "execution_count": 83,
     "metadata": {},
     "output_type": "execute_result"
    }
   ],
   "source": [
    "X_bb = X_train[['bedrooms', 'bathrooms']]\n",
    "poly = PolynomialFeatures(degree=2, include_bias=False, interaction_only=False)\n",
    "poly.fit(X_bb)\n",
    "X_bb = pd.DataFrame(\n",
    "    poly.transform(X_bb),\n",
    "    columns=poly.get_feature_names_out(X_bb.columns),\n",
    "    index=X_train.index,\n",
    ")\n",
    "X_bb.head()"
   ]
  },
  {
   "cell_type": "code",
   "execution_count": 110,
   "id": "9a0c1696",
   "metadata": {},
   "outputs": [],
   "source": [
    "# 2. Use the features\n",
    "lm = LinearRegression()\n",
    "lm.fit(X_bb.values, y_train)\n",
    "\n",
    "X_validate_poly = poly.transform(X_validate[['bedrooms', 'bathrooms']])\n",
    "train_pred['polynomial degree 2'] = lm.predict(X_bb)\n",
    "valid_pred['polynomial degree 2'] = lm.predict(X_validate_poly)"
   ]
  },
  {
   "cell_type": "code",
   "execution_count": 87,
   "id": "bed85bed",
   "metadata": {},
   "outputs": [
    {
     "data": {
      "text/html": [
       "<div>\n",
       "<style scoped>\n",
       "    .dataframe tbody tr th:only-of-type {\n",
       "        vertical-align: middle;\n",
       "    }\n",
       "\n",
       "    .dataframe tbody tr th {\n",
       "        vertical-align: top;\n",
       "    }\n",
       "\n",
       "    .dataframe thead th {\n",
       "        text-align: right;\n",
       "    }\n",
       "</style>\n",
       "<table border=\"1\" class=\"dataframe\">\n",
       "  <thead>\n",
       "    <tr style=\"text-align: right;\">\n",
       "      <th></th>\n",
       "      <th>actual</th>\n",
       "      <th>baseline</th>\n",
       "      <th>simple_lr</th>\n",
       "      <th>multiple_lr</th>\n",
       "      <th>multiple_lr_fs</th>\n",
       "      <th>polynomial degree 2</th>\n",
       "    </tr>\n",
       "  </thead>\n",
       "  <tbody>\n",
       "    <tr>\n",
       "      <th>738365</th>\n",
       "      <td>260058</td>\n",
       "      <td>396,882.732</td>\n",
       "      <td>283,758.069</td>\n",
       "      <td>270,480.403</td>\n",
       "      <td>272,528.192</td>\n",
       "      <td>245,261.075</td>\n",
       "    </tr>\n",
       "    <tr>\n",
       "      <th>1269373</th>\n",
       "      <td>286165</td>\n",
       "      <td>396,882.732</td>\n",
       "      <td>234,864.075</td>\n",
       "      <td>253,390.326</td>\n",
       "      <td>257,587.673</td>\n",
       "      <td>333,599.725</td>\n",
       "    </tr>\n",
       "    <tr>\n",
       "      <th>590554</th>\n",
       "      <td>473803</td>\n",
       "      <td>396,882.732</td>\n",
       "      <td>449,709.906</td>\n",
       "      <td>478,966.870</td>\n",
       "      <td>473,523.136</td>\n",
       "      <td>511,081.117</td>\n",
       "    </tr>\n",
       "    <tr>\n",
       "      <th>869106</th>\n",
       "      <td>112482</td>\n",
       "      <td>396,882.732</td>\n",
       "      <td>105,398.840</td>\n",
       "      <td>135,688.708</td>\n",
       "      <td>136,252.286</td>\n",
       "      <td>333,599.725</td>\n",
       "    </tr>\n",
       "    <tr>\n",
       "      <th>1718876</th>\n",
       "      <td>216810</td>\n",
       "      <td>396,882.732</td>\n",
       "      <td>224,530.271</td>\n",
       "      <td>210,999.053</td>\n",
       "      <td>211,635.401</td>\n",
       "      <td>253,313.684</td>\n",
       "    </tr>\n",
       "    <tr>\n",
       "      <th>...</th>\n",
       "      <td>...</td>\n",
       "      <td>...</td>\n",
       "      <td>...</td>\n",
       "      <td>...</td>\n",
       "      <td>...</td>\n",
       "      <td>...</td>\n",
       "    </tr>\n",
       "    <tr>\n",
       "      <th>1208964</th>\n",
       "      <td>766541</td>\n",
       "      <td>396,882.732</td>\n",
       "      <td>774,187.067</td>\n",
       "      <td>754,869.773</td>\n",
       "      <td>764,033.685</td>\n",
       "      <td>325,080.385</td>\n",
       "    </tr>\n",
       "    <tr>\n",
       "      <th>1576509</th>\n",
       "      <td>516439</td>\n",
       "      <td>396,882.732</td>\n",
       "      <td>474,463.248</td>\n",
       "      <td>454,577.957</td>\n",
       "      <td>463,102.409</td>\n",
       "      <td>253,313.684</td>\n",
       "    </tr>\n",
       "    <tr>\n",
       "      <th>1738718</th>\n",
       "      <td>820000</td>\n",
       "      <td>396,882.732</td>\n",
       "      <td>841,529.161</td>\n",
       "      <td>817,068.605</td>\n",
       "      <td>817,619.982</td>\n",
       "      <td>536,172.406</td>\n",
       "    </tr>\n",
       "    <tr>\n",
       "      <th>535652</th>\n",
       "      <td>142020</td>\n",
       "      <td>396,882.732</td>\n",
       "      <td>146,007.018</td>\n",
       "      <td>175,951.014</td>\n",
       "      <td>176,916.835</td>\n",
       "      <td>325,080.385</td>\n",
       "    </tr>\n",
       "    <tr>\n",
       "      <th>1000863</th>\n",
       "      <td>397644</td>\n",
       "      <td>396,882.732</td>\n",
       "      <td>391,663.115</td>\n",
       "      <td>358,941.518</td>\n",
       "      <td>361,589.731</td>\n",
       "      <td>536,172.406</td>\n",
       "    </tr>\n",
       "  </tbody>\n",
       "</table>\n",
       "<p>1153185 rows × 6 columns</p>\n",
       "</div>"
      ],
      "text/plain": [
       "         actual    baseline   simple_lr  multiple_lr  multiple_lr_fs  \\\n",
       "738365   260058 396,882.732 283,758.069  270,480.403     272,528.192   \n",
       "1269373  286165 396,882.732 234,864.075  253,390.326     257,587.673   \n",
       "590554   473803 396,882.732 449,709.906  478,966.870     473,523.136   \n",
       "869106   112482 396,882.732 105,398.840  135,688.708     136,252.286   \n",
       "1718876  216810 396,882.732 224,530.271  210,999.053     211,635.401   \n",
       "...         ...         ...         ...          ...             ...   \n",
       "1208964  766541 396,882.732 774,187.067  754,869.773     764,033.685   \n",
       "1576509  516439 396,882.732 474,463.248  454,577.957     463,102.409   \n",
       "1738718  820000 396,882.732 841,529.161  817,068.605     817,619.982   \n",
       "535652   142020 396,882.732 146,007.018  175,951.014     176,916.835   \n",
       "1000863  397644 396,882.732 391,663.115  358,941.518     361,589.731   \n",
       "\n",
       "         polynomial degree 2  \n",
       "738365           245,261.075  \n",
       "1269373          333,599.725  \n",
       "590554           511,081.117  \n",
       "869106           333,599.725  \n",
       "1718876          253,313.684  \n",
       "...                      ...  \n",
       "1208964          325,080.385  \n",
       "1576509          253,313.684  \n",
       "1738718          536,172.406  \n",
       "535652           325,080.385  \n",
       "1000863          536,172.406  \n",
       "\n",
       "[1153185 rows x 6 columns]"
      ]
     },
     "execution_count": 87,
     "metadata": {},
     "output_type": "execute_result"
    }
   ],
   "source": [
    "train_pred"
   ]
  },
  {
   "cell_type": "code",
   "execution_count": 111,
   "id": "1d203433",
   "metadata": {},
   "outputs": [
    {
     "data": {
      "text/plain": [
       "LassoLars(alpha=536.932258297078, eps=0.2220446049250313, max_iter=250)"
      ]
     },
     "execution_count": 111,
     "metadata": {},
     "output_type": "execute_result"
    }
   ],
   "source": [
    "# create the model object\n",
    "lars = LassoLars(alpha=0.5 *np.sqrt(n), max_iter=250, eps=2.220446049250313e-1)\n",
    "\n",
    "# fit the model to our training data= \n",
    "lars.fit(X_train, y_train)"
   ]
  },
  {
   "cell_type": "code",
   "execution_count": 93,
   "id": "279b5f75",
   "metadata": {},
   "outputs": [],
   "source": [
    "train_pred['lars'] = lars.predict(X_train)\n",
    "valid_pred['lars'] = lars.predict(X_validate)"
   ]
  },
  {
   "cell_type": "code",
   "execution_count": 94,
   "id": "659c6f84",
   "metadata": {},
   "outputs": [
    {
     "data": {
      "text/html": [
       "<div>\n",
       "<style scoped>\n",
       "    .dataframe tbody tr th:only-of-type {\n",
       "        vertical-align: middle;\n",
       "    }\n",
       "\n",
       "    .dataframe tbody tr th {\n",
       "        vertical-align: top;\n",
       "    }\n",
       "\n",
       "    .dataframe thead th {\n",
       "        text-align: right;\n",
       "    }\n",
       "</style>\n",
       "<table border=\"1\" class=\"dataframe\">\n",
       "  <thead>\n",
       "    <tr style=\"text-align: right;\">\n",
       "      <th></th>\n",
       "      <th>actual</th>\n",
       "      <th>baseline</th>\n",
       "      <th>simple_lr</th>\n",
       "      <th>multiple_lr</th>\n",
       "      <th>multiple_lr_fs</th>\n",
       "      <th>polynomial degree 2</th>\n",
       "      <th>lars</th>\n",
       "    </tr>\n",
       "  </thead>\n",
       "  <tbody>\n",
       "    <tr>\n",
       "      <th>738365</th>\n",
       "      <td>260058</td>\n",
       "      <td>396,882.732</td>\n",
       "      <td>283,758.069</td>\n",
       "      <td>270,480.403</td>\n",
       "      <td>272,528.192</td>\n",
       "      <td>245,261.075</td>\n",
       "      <td>396,882.732</td>\n",
       "    </tr>\n",
       "  </tbody>\n",
       "</table>\n",
       "</div>"
      ],
      "text/plain": [
       "        actual    baseline   simple_lr  multiple_lr  multiple_lr_fs  \\\n",
       "738365  260058 396,882.732 283,758.069  270,480.403     272,528.192   \n",
       "\n",
       "        polynomial degree 2        lars  \n",
       "738365          245,261.075 396,882.732  "
      ]
     },
     "execution_count": 94,
     "metadata": {},
     "output_type": "execute_result"
    }
   ],
   "source": [
    "train_pred.head(1)"
   ]
  },
  {
   "cell_type": "code",
   "execution_count": 95,
   "id": "ff019a27",
   "metadata": {},
   "outputs": [],
   "source": [
    "# create the model object\n",
    "glm = TweedieRegressor(power=1, alpha=0)\n",
    "\n",
    "# fit the model to our training data\n",
    "glm.fit(X_train, y_train)\n",
    "\n",
    "# predict validate\n",
    "train_pred['glm'] = glm.predict(X_train)\n",
    "valid_pred['glm'] = glm.predict(X_validate)"
   ]
  },
  {
   "cell_type": "code",
   "execution_count": 96,
   "id": "98d8c47c",
   "metadata": {},
   "outputs": [
    {
     "data": {
      "text/html": [
       "<div>\n",
       "<style scoped>\n",
       "    .dataframe tbody tr th:only-of-type {\n",
       "        vertical-align: middle;\n",
       "    }\n",
       "\n",
       "    .dataframe tbody tr th {\n",
       "        vertical-align: top;\n",
       "    }\n",
       "\n",
       "    .dataframe thead th {\n",
       "        text-align: right;\n",
       "    }\n",
       "</style>\n",
       "<table border=\"1\" class=\"dataframe\">\n",
       "  <thead>\n",
       "    <tr style=\"text-align: right;\">\n",
       "      <th></th>\n",
       "      <th>actual</th>\n",
       "      <th>baseline</th>\n",
       "      <th>simple_lr</th>\n",
       "      <th>multiple_lr</th>\n",
       "      <th>multiple_lr_fs</th>\n",
       "      <th>polynomial degree 2</th>\n",
       "      <th>lars</th>\n",
       "      <th>glm</th>\n",
       "    </tr>\n",
       "  </thead>\n",
       "  <tbody>\n",
       "    <tr>\n",
       "      <th>738365</th>\n",
       "      <td>260058</td>\n",
       "      <td>396,882.732</td>\n",
       "      <td>283,758.069</td>\n",
       "      <td>270,480.403</td>\n",
       "      <td>272,528.192</td>\n",
       "      <td>245,261.075</td>\n",
       "      <td>396,882.732</td>\n",
       "      <td>260,320.700</td>\n",
       "    </tr>\n",
       "  </tbody>\n",
       "</table>\n",
       "</div>"
      ],
      "text/plain": [
       "        actual    baseline   simple_lr  multiple_lr  multiple_lr_fs  \\\n",
       "738365  260058 396,882.732 283,758.069  270,480.403     272,528.192   \n",
       "\n",
       "        polynomial degree 2        lars         glm  \n",
       "738365          245,261.075 396,882.732 260,320.700  "
      ]
     },
     "execution_count": 96,
     "metadata": {},
     "output_type": "execute_result"
    }
   ],
   "source": [
    "train_pred.head(1)"
   ]
  },
  {
   "cell_type": "markdown",
   "id": "753493bd",
   "metadata": {},
   "source": [
    "### *Evaluate*"
   ]
  },
  {
   "cell_type": "code",
   "execution_count": null,
   "id": "83bdafb6",
   "metadata": {},
   "outputs": [],
   "source": [
    "def calculate_mse(y_predicted):\n",
    "    return mean_squared_error(predictions.actual, y_predicted)\n",
    "\n",
    "predictions.apply(calculate_mse).sort_values()"
   ]
  },
  {
   "cell_type": "code",
   "execution_count": 101,
   "id": "ff60181d",
   "metadata": {},
   "outputs": [],
   "source": [
    "def calculate_train_rmse(y_hat):\n",
    "    return mean_squared_error(train_pred.actual, y_hat) ** .5"
   ]
  },
  {
   "cell_type": "code",
   "execution_count": 103,
   "id": "6e7fc2fe",
   "metadata": {
    "scrolled": true
   },
   "outputs": [
    {
     "data": {
      "text/plain": [
       "actual                      0.000\n",
       "multiple_lr            63,680.473\n",
       "multiple_lr_fs         64,042.731\n",
       "simple_lr              67,010.129\n",
       "glm                   198,595.788\n",
       "polynomial degree 2   284,605.034\n",
       "baseline              327,504.498\n",
       "lars                  327,504.498\n",
       "dtype: float64"
      ]
     },
     "execution_count": 103,
     "metadata": {},
     "output_type": "execute_result"
    }
   ],
   "source": [
    "train_pred.apply(calculate_train_rmse).sort_values()"
   ]
  },
  {
   "cell_type": "code",
   "execution_count": 104,
   "id": "dfb0ff1e",
   "metadata": {},
   "outputs": [],
   "source": [
    "def calculate_valid_rmse(y_hat):\n",
    "    return mean_squared_error(valid_pred.actual, y_hat) ** .5"
   ]
  },
  {
   "cell_type": "code",
   "execution_count": 106,
   "id": "4b328cdf",
   "metadata": {
    "scrolled": true
   },
   "outputs": [
    {
     "data": {
      "text/plain": [
       "actual                      0.000\n",
       "multiple_lr            64,058.399\n",
       "multiple_lr_fs         64,402.977\n",
       "simple_lr              67,360.324\n",
       "glm                   201,626.501\n",
       "polynomial degree 2   285,073.518\n",
       "baseline              327,812.491\n",
       "lars                  327,812.579\n",
       "dtype: float64"
      ]
     },
     "execution_count": 106,
     "metadata": {},
     "output_type": "execute_result"
    }
   ],
   "source": [
    "valid_pred.apply(calculate_valid_rmse).sort_values()"
   ]
  }
 ],
 "metadata": {
  "kernelspec": {
   "display_name": "Python 3 (ipykernel)",
   "language": "python",
   "name": "python3"
  },
  "language_info": {
   "codemirror_mode": {
    "name": "ipython",
    "version": 3
   },
   "file_extension": ".py",
   "mimetype": "text/x-python",
   "name": "python",
   "nbconvert_exporter": "python",
   "pygments_lexer": "ipython3",
   "version": "3.9.12"
  }
 },
 "nbformat": 4,
 "nbformat_minor": 5
}
